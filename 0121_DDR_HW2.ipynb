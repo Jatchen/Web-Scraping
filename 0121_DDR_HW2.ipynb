{
  "nbformat": 4,
  "nbformat_minor": 0,
  "metadata": {
    "colab": {
      "provenance": [],
      "authorship_tag": "ABX9TyNk6KcvfCljOBRbVLi6v+5t",
      "include_colab_link": true
    },
    "kernelspec": {
      "name": "python3",
      "display_name": "Python 3"
    },
    "language_info": {
      "name": "python"
    }
  },
  "cells": [
    {
      "cell_type": "markdown",
      "metadata": {
        "id": "view-in-github",
        "colab_type": "text"
      },
      "source": [
        "<a href=\"https://colab.research.google.com/github/Jatchen/Web-Scraping/blob/main/0121_DDR_HW2.ipynb\" target=\"_parent\"><img src=\"https://colab.research.google.com/assets/colab-badge.svg\" alt=\"Open In Colab\"/></a>"
      ]
    },
    {
      "cell_type": "code",
      "execution_count": 1,
      "metadata": {
        "id": "JgMixGmAjedT"
      },
      "outputs": [],
      "source": [
        "from bs4 import BeautifulSoup\n",
        "import requests\n",
        "import re"
      ]
    },
    {
      "cell_type": "code",
      "source": [
        "# Q1\n",
        "url = 'https://gsm.ucdavis.edu/master-science-business-analytics-msba'\n",
        "page = requests.get(url)\n",
        "\n",
        "soup = BeautifulSoup(page.text)\n",
        "div_element = soup.find('div', class_='py-3 solid-blue-bkg text-white')\n",
        "# get all from div\n",
        "for e in div_element:\n",
        "  print(e)"
      ],
      "metadata": {
        "colab": {
          "base_uri": "https://localhost:8080/"
        },
        "id": "prm0I2P7jlK8",
        "outputId": "642cb21d-388b-4983-bb8d-26657838569f"
      },
      "execution_count": 2,
      "outputs": [
        {
          "output_type": "stream",
          "name": "stdout",
          "text": [
            "\n",
            "\n",
            "<div class=\"container\">\n",
            "<div class=\"row\">\n",
            "<div class=\"col-md-12\">\n",
            "<h2 class=\"text-center text-white\">Your Community</h2>\n",
            "<p class=\"text-center text-white\">Class of 2023-24</p>\n",
            "</div>\n",
            "</div>\n",
            "<div class=\"row\">\n",
            "<div class=\"col-md-4 py-2\">\n",
            "<h2 class=\"text-center text-yellow title\">94</h2>\n",
            "<p class=\"text-center text-white\">Number of Incoming Students</p>\n",
            "</div>\n",
            "<div class=\"col-md-4 py-2\">\n",
            "<h2 class=\"text-center text-yellow title\">2</h2>\n",
            "<p class=\"text-center text-white\">Average Years of Work Experience</p>\n",
            "</div>\n",
            "<div class=\"col-md-4 py-2\">\n",
            "<h2 class=\"text-center text-yellow title\">24</h2>\n",
            "<p class=\"text-center text-white\">Average Age</p>\n",
            "</div>\n",
            "</div>\n",
            "<div class=\"row\">\n",
            "<div class=\"col-md-6 py-2\">\n",
            "<h2 class=\"text-center text-yellow title\">166</h2>\n",
            "<p class=\"text-center text-white\">Average GRE Quant Score</p>\n",
            "</div>\n",
            "<div class=\"col-md-6 py-3\">\n",
            "<h2 class=\"text-center text-yellow title\">3.5</h2>\n",
            "<p class=\"text-center text-white\">Average Undergraduate GPA</p>\n",
            "</div>\n",
            "</div>\n",
            "</div>\n",
            "\n",
            "\n"
          ]
        }
      ]
    },
    {
      "cell_type": "code",
      "source": [
        "# find all the h2 and p element\n",
        "data = []\n",
        "for h2_tag in div_element.find_all('h2'):\n",
        "    p_tag = h2_tag.find_next_sibling('p')\n",
        "    data.append({\n",
        "        'h2_text': h2_tag.text.strip(),\n",
        "        'p_text': p_tag.text.strip() if p_tag else ''\n",
        "    })\n",
        "\n",
        "# print the result\n",
        "for item in data:\n",
        "    print(item['p_text'],item['h2_text'])"
      ],
      "metadata": {
        "colab": {
          "base_uri": "https://localhost:8080/"
        },
        "id": "gvQklxEfqGRa",
        "outputId": "fc3acfcd-9b6f-4b2c-db1d-057e61860e04"
      },
      "execution_count": 11,
      "outputs": [
        {
          "output_type": "stream",
          "name": "stdout",
          "text": [
            "Class of 2023-24 Your Community\n",
            "Number of Incoming Students 94\n",
            "Average Years of Work Experience 2\n",
            "Average Age 24\n",
            "Average GRE Quant Score 166\n",
            "Average Undergraduate GPA 3.5\n"
          ]
        }
      ]
    },
    {
      "cell_type": "code",
      "source": [
        "# Q2\n",
        "url_2 = 'https://www.amazon.com/dp/B07CT6DYFG'\n",
        "page_2 = requests.get(url_2)\n",
        "soup_2 = BeautifulSoup(page_2.text)"
      ],
      "metadata": {
        "id": "YPGuqP4nlmI2"
      },
      "execution_count": null,
      "outputs": []
    },
    {
      "cell_type": "code",
      "source": [
        "title = soup_2.find('span', class_='a-size-large product-title-word-break')\n",
        "print(title.text.strip())"
      ],
      "metadata": {
        "colab": {
          "base_uri": "https://localhost:8080/"
        },
        "id": "d4VBNmQQltEM",
        "outputId": "fb394082-d409-48ca-bbe3-74888938f142"
      },
      "execution_count": null,
      "outputs": [
        {
          "output_type": "stream",
          "name": "stdout",
          "text": [
            "Katamco The Original Toilet Timer (Classic), As Seen on Shark Tank. Funny Gift for Men, Husband, Dad, Son, Birthday, Christmas, Stocking Stuffer.\n"
          ]
        }
      ]
    },
    {
      "cell_type": "code",
      "source": [
        "price = soup_2.find('span', class_='a-price-whole')\n",
        "print(price.text.strip())"
      ],
      "metadata": {
        "colab": {
          "base_uri": "https://localhost:8080/"
        },
        "id": "tBcUpR6Plvb3",
        "outputId": "5e7e0bd4-92f8-4ca0-fb1c-f93692f10626"
      },
      "execution_count": null,
      "outputs": [
        {
          "output_type": "stream",
          "name": "stdout",
          "text": [
            "14.\n"
          ]
        }
      ]
    },
    {
      "cell_type": "code",
      "source": [
        "# Q3\n",
        "# First I tried to extract all the title, then I printed the first one as result\n",
        "\n",
        "url_3 = 'https://www.usnews.com/'\n",
        "\n",
        "# Set a user agent to simulate a web browser\n",
        "headers = {\n",
        "    'User-Agent': 'Mozilla/5.0 (Windows NT 10.0; Win64; x64) AppleWebKit/537.36 (KHTML, like Gecko) Chrome/120.0.0.0 Safari/537.36 Edg/120.0.0.0'}\n",
        "\n",
        "# Perform the HTTP request to the URL\n",
        "response = requests.get(url_3, headers=headers)\n",
        "\n",
        "print(response.status_code)"
      ],
      "metadata": {
        "colab": {
          "base_uri": "https://localhost:8080/"
        },
        "id": "J7iQ6KPxlw4z",
        "outputId": "991b5c9d-d329-4103-99cb-3d5c355674d3"
      },
      "execution_count": null,
      "outputs": [
        {
          "output_type": "stream",
          "name": "stdout",
          "text": [
            "200\n"
          ]
        }
      ]
    },
    {
      "cell_type": "code",
      "source": [
        "# find the section\n",
        "soup_3 = BeautifulSoup(response.text)\n",
        "top_stories_div = soup_3.find('div', class_='Box-w0dun1-0 ArmRestTopStories__Container-s0vo7p-0 dWWnRo jkIDND')\n",
        "for e in top_stories_div:\n",
        "  print(e)"
      ],
      "metadata": {
        "colab": {
          "base_uri": "https://localhost:8080/"
        },
        "id": "dZrct8wvl2nO",
        "outputId": "9132a1ae-553c-4893-f077-ba1133efef02"
      },
      "execution_count": null,
      "outputs": [
        {
          "output_type": "stream",
          "name": "stdout",
          "text": [
            "<div class=\"Box-w0dun1-0 ArmRestTopStories__Part-s0vo7p-1 erkdnc biVKSR\" spacing=\"3\"><div class=\"Box-w0dun1-0 ContentBox__Container-sc-1egb8dt-0 iZCosX lmOexQ ArmRestTopStories__CollapseBorderContentBox-s0vo7p-2 fTDCpH ArmRestTopStories__CollapseBorderContentBox-s0vo7p-2 fTDCpH\" spacing=\"3\"><h3 class=\"Heading-sc-1w5xk2o-0 ContentBox__StoryHeading-sc-1egb8dt-3 MRvpF fqJuKa story-headline\"><a href=\"https://www.usnews.com/news/best-states/south-carolina/articles/2024-01-20/nikki-haley-questions-trumps-mental-fitness-after-he-appears-to-confuse-her-for-nancy-pelosi\">Haley Questions Trump's Mental Fitness After Gaffe</a></h3><div class=\"Box-w0dun1-0 ContentBox__Content-sc-1egb8dt-5 dWWnRo gCQfSA\"><div class=\"ContentBox__Deck-sc-1egb8dt-6 igvdCS\"><div class=\"Box-w0dun1-0 ContentBox__ParagraphWithImage-sc-1egb8dt-2 dWWnRo ccgbeX\"><a aria-label=\"Haley Questions Trump's Mental Fitness After Gaffe\" class=\"story-image\" href=\"https://www.usnews.com/news/best-states/south-carolina/articles/2024-01-20/nikki-haley-questions-trumps-mental-fitness-after-he-appears-to-confuse-her-for-nancy-pelosi\"><div class=\"Box-w0dun1-0 ContentBox__ImageWrapper-sc-1egb8dt-1 dWWnRo jXMTkv\"><picture class=\"Image__Picture-sc-412cjc-0\"><img alt=\"\" class=\"Image__PictureImage-sc-412cjc-1 gBOJbW Image-sc-412cjc-2 ContentBox__SmallPictureInText-sc-1egb8dt-8 kQDDcT eNihux\" role=\"presentation\" src=\"https://www.usnews.com/object/image/0000018d-29b2-d066-a5ef-e9fe55cf0000/95189a704aa74d42b36c45b09ab69183Election_2024_Haley_35966.jpg?update-time=1705786496000&amp;size=responsive300\"/></picture></div></a><span class=\"Span-sc-19wk4id-0 klJcQL\" size=\"3\">The former president asserted to supporters that his rival for the GOP nomination was in charge of Capitol security during the Jan. 6 riot.</span></div><span class=\"Span-sc-19wk4id-0 jrniDn\" size=\"2\"><span class=\"Span-sc-19wk4id-0 ContentBox__Author-sc-1egb8dt-9 emhKIh bEidi\" color=\"#1A1D26\" size=\"2\">Associated Press</span></span></div><a aria-label=\"Haley Questions Trump's Mental Fitness After Gaffe\" class=\"story-image\" href=\"https://www.usnews.com/news/best-states/south-carolina/articles/2024-01-20/nikki-haley-questions-trumps-mental-fitness-after-he-appears-to-confuse-her-for-nancy-pelosi\"><picture class=\"Image__Picture-sc-412cjc-0\"><img alt=\"\" class=\"Image__PictureImage-sc-412cjc-1 gBOJbW Image-sc-412cjc-2 ContentBox__Picture-sc-1egb8dt-7 kQDDcT legFzl\" role=\"presentation\" src=\"https://www.usnews.com/object/image/0000018d-29b2-d066-a5ef-e9fe55cf0000/95189a704aa74d42b36c45b09ab69183Election_2024_Haley_35966.jpg?update-time=1705786496000&amp;size=responsive300\"/></picture></a></div></div><div class=\"Box-w0dun1-0 ContentBox__Container-sc-1egb8dt-0 iZCosX lmOexQ ArmRestTopStories__CollapseBorderContentBox-s0vo7p-2 fTDCpH ArmRestTopStories__CollapseBorderContentBox-s0vo7p-2 fTDCpH\" spacing=\"3\"><h3 class=\"Heading-sc-1w5xk2o-0 ContentBox__StoryHeading-sc-1egb8dt-3 MRvpF fqJuKa story-headline\"><a href=\"https://www.usnews.com/news/economy/articles/2024-01-19/consumers-turn-the-corner-on-the-economy-as-sentiment-spikes\">Consumers Turn the Corner on Economy</a></h3><div class=\"Box-w0dun1-0 ContentBox__Content-sc-1egb8dt-5 dWWnRo gCQfSA\"><div class=\"ContentBox__Deck-sc-1egb8dt-6 igvdCS\"><div class=\"Box-w0dun1-0 ContentBox__ParagraphWithImage-sc-1egb8dt-2 dWWnRo ccgbeX\"><a aria-label=\"Consumers Turn the Corner on Economy\" class=\"story-image\" href=\"https://www.usnews.com/news/economy/articles/2024-01-19/consumers-turn-the-corner-on-the-economy-as-sentiment-spikes\"><div class=\"Box-w0dun1-0 ContentBox__ImageWrapper-sc-1egb8dt-1 dWWnRo jXMTkv\"><picture class=\"Image__Picture-sc-412cjc-0\"><img alt=\"\" class=\"Image__PictureImage-sc-412cjc-1 gBOJbW Image-sc-412cjc-2 ContentBox__SmallPictureInText-sc-1egb8dt-8 kQDDcT eNihux\" role=\"presentation\" src=\"https://www.usnews.com/object/image/0000018d-226f-dd55-affd-ae7f61b70000/gettyimages-1855701967.jpg?update-time=1705681071315&amp;size=responsive300\"/></picture></div></a><span class=\"Span-sc-19wk4id-0 klJcQL\" size=\"3\">Increased income expectations and declining inflation are behind the rosier outlook.</span></div><span class=\"Span-sc-19wk4id-0 jrniDn\" size=\"2\"><span class=\"Span-sc-19wk4id-0 ContentBox__Author-sc-1egb8dt-9 emhKIh bEidi\" color=\"#1A1D26\" size=\"2\">Tim Smart</span></span></div><a aria-label=\"Consumers Turn the Corner on Economy\" class=\"story-image\" href=\"https://www.usnews.com/news/economy/articles/2024-01-19/consumers-turn-the-corner-on-the-economy-as-sentiment-spikes\"><picture class=\"Image__Picture-sc-412cjc-0\"><img alt=\"\" class=\"Image__PictureImage-sc-412cjc-1 gBOJbW Image-sc-412cjc-2 ContentBox__Picture-sc-1egb8dt-7 kQDDcT legFzl\" role=\"presentation\" src=\"https://www.usnews.com/object/image/0000018d-226f-dd55-affd-ae7f61b70000/gettyimages-1855701967.jpg?update-time=1705681071315&amp;size=responsive300\"/></picture></a></div></div></div>\n",
            "<div class=\"Box-w0dun1-0 ArmRestTopStories__Part-s0vo7p-1 kmHbOk biVKSR\" spacing=\"3\"><a class=\"Anchor-byh49a-0 MediaLink__AnchorContainer-sc-4j1zsn-6 eMEqFO gvIKGj\" href=\"https://www.usnews.com/news/national-news/articles/2024-01-17/compromise-sparks-conflict-as-congress-works-to-avoid-government-shutdown\" spacing=\"3\"><div class=\"Box-w0dun1-0 MediaLink__InnerContainer-sc-4j1zsn-5 ecdieg dmGGzz\" spacing=\"3\"><div class=\"Box-w0dun1-0 MediaLink__ImageContainer-sc-4j1zsn-2 dWWnRo FVTRN\"><div class=\"MediaLink__Aside-sc-4j1zsn-1 eUcENA\"><img alt=\"Speaker of the House Mike Johnson, R-La., reads a statement to reporters about efforts to complete the appropriations process to fund the budget, at the Capitol in Washington, Friday, Jan. 12, 2024. (AP Photo/J. Scott Applewhite)\r\n",
            "\r\n",
            "\r\n",
            "\" class=\"MediaLink__ImageStyled-sc-4j1zsn-3 dhcpmZ\" loading=\"lazy\" src=\"https://www.usnews.com/object/image/0000018d-18da-d8e1-abdf-9afb3cdb0000/ap24012621953019.jpg?update-time=1705519832422&amp;size=responsiveSquare150\"/></div></div><div class=\"Box-w0dun1-0 MediaLink__Content-sc-4j1zsn-0 dWWnRo cJCmtT\"><p class=\"Paragraph-sc-1iyax29-0 eFAuRd\">When Compromise Sparks Conflict</p></div></div></a><a class=\"Anchor-byh49a-0 MediaLink__AnchorContainer-sc-4j1zsn-6 eMEqFO gvIKGj\" href=\"https://www.usnews.com/news/national-news/articles/2024-01-17/dean-phillips-fights-to-be-heard-in-long-shot-primary-bid-against-biden\" spacing=\"3\"><div class=\"Box-w0dun1-0 MediaLink__InnerContainer-sc-4j1zsn-5 ecdieg dmGGzz\" spacing=\"3\"><div class=\"Box-w0dun1-0 MediaLink__ImageContainer-sc-4j1zsn-2 dWWnRo FVTRN\"><div class=\"MediaLink__Aside-sc-4j1zsn-1 eUcENA\"><img alt=\"Democratic presidential candidate Dean Phillips speaks at Modestman Brewing in Keene, N.H., Sunday, Jan. 14, 2024. (Kristopher Radder/The Brattleboro Reformer via AP)\" class=\"MediaLink__ImageStyled-sc-4j1zsn-3 dhcpmZ\" loading=\"lazy\" src=\"https://www.usnews.com/object/image/0000018d-1998-de1c-a1bd-19dd9abc0000/ap24014764541342.jpg?update-time=1705531502012&amp;size=responsiveSquare150\"/></div></div><div class=\"Box-w0dun1-0 MediaLink__Content-sc-4j1zsn-0 dWWnRo cJCmtT\"><p class=\"Paragraph-sc-1iyax29-0 eFAuRd\">Phillips’ Primary Fight? To Be Heard</p></div></div></a><a class=\"Anchor-byh49a-0 MediaLink__AnchorContainer-sc-4j1zsn-6 eMEqFO gvIKGj\" href=\"https://www.usnews.com/news/economy/articles/2024-01-17/americans-end-year-with-a-splurge-pushing-retail-sales-up-by-0-6\" spacing=\"3\"><div class=\"Box-w0dun1-0 MediaLink__InnerContainer-sc-4j1zsn-5 ecdieg dmGGzz\" spacing=\"3\"><div class=\"Box-w0dun1-0 MediaLink__ImageContainer-sc-4j1zsn-2 dWWnRo FVTRN\"><div class=\"MediaLink__Aside-sc-4j1zsn-1 eUcENA\"><img alt=\"Shoppers and sightseers walk on the 5th Avenue, Monday, Dec. 11, 2023, in New York. On Thursday, the Commerce Department releases U.S. retail sales data for November. (AP Photo/Yuki Iwamura)\r\n",
            "\r\n",
            "\r\n",
            "\" class=\"MediaLink__ImageStyled-sc-4j1zsn-3 dhcpmZ\" loading=\"lazy\" src=\"https://www.usnews.com/object/image/0000018d-17ad-de1c-a1bd-17fd466b0000/ap23345762486633.jpg?update-time=1705500618290&amp;size=responsiveSquare150\"/></div></div><div class=\"Box-w0dun1-0 MediaLink__Content-sc-4j1zsn-0 dWWnRo cJCmtT\"><p class=\"Paragraph-sc-1iyax29-0 eFAuRd\">Americans End Year With a Splurge</p></div></div></a><a class=\"Anchor-byh49a-0 MediaLink__AnchorContainer-sc-4j1zsn-6 eMEqFO gvIKGj\" href=\"https://www.usnews.com/news/politics/articles/2024-01-16/population-growth-patterns-paint-grim-picture-for-democrats\" spacing=\"3\"><div class=\"Box-w0dun1-0 MediaLink__InnerContainer-sc-4j1zsn-5 ecdieg dmGGzz\" spacing=\"3\"><div class=\"Box-w0dun1-0 MediaLink__ImageContainer-sc-4j1zsn-2 dWWnRo FVTRN\"><div class=\"MediaLink__Aside-sc-4j1zsn-1 eUcENA\"><img alt=\"PICKENS, SOUTH CAROLINA - JULY 01: Supporters of former President Donald Trump applaud during a campaign event on July 1, 2023 in Pickens, South Carolina. The former president faces a growing list of primary challengers in the Republican Party. (Photo by Sean Rayford/Getty Images)\r\n",
            "\" class=\"MediaLink__ImageStyled-sc-4j1zsn-3 dhcpmZ\" loading=\"lazy\" src=\"https://www.usnews.com/object/image/0000018d-136d-d5b6-affd-d7fdc2800000/gettyimages-1380192989.jpg?update-time=1705429257948&amp;size=responsiveSquare150\"/></div></div><div class=\"Box-w0dun1-0 MediaLink__Content-sc-4j1zsn-0 dWWnRo cJCmtT\"><p class=\"Paragraph-sc-1iyax29-0 eFAuRd\">Why Census Trends Should Trouble Dems</p></div></div></a></div>\n"
          ]
        }
      ]
    },
    {
      "cell_type": "code",
      "source": [
        "# extract all the title\n",
        "title_3 = top_stories_div.select('a')\n",
        "for e in title_3:\n",
        "  print(e)"
      ],
      "metadata": {
        "colab": {
          "base_uri": "https://localhost:8080/"
        },
        "id": "adiWvN9zl8W-",
        "outputId": "b095ff51-95b7-4a8a-f0cd-4fc40c4f67ba"
      },
      "execution_count": null,
      "outputs": [
        {
          "output_type": "stream",
          "name": "stdout",
          "text": [
            "<a href=\"https://www.usnews.com/news/best-states/south-carolina/articles/2024-01-20/nikki-haley-questions-trumps-mental-fitness-after-he-appears-to-confuse-her-for-nancy-pelosi\">Haley Questions Trump's Mental Fitness After Gaffe</a>\n",
            "<a aria-label=\"Haley Questions Trump's Mental Fitness After Gaffe\" class=\"story-image\" href=\"https://www.usnews.com/news/best-states/south-carolina/articles/2024-01-20/nikki-haley-questions-trumps-mental-fitness-after-he-appears-to-confuse-her-for-nancy-pelosi\"><div class=\"Box-w0dun1-0 ContentBox__ImageWrapper-sc-1egb8dt-1 dWWnRo jXMTkv\"><picture class=\"Image__Picture-sc-412cjc-0\"><img alt=\"\" class=\"Image__PictureImage-sc-412cjc-1 gBOJbW Image-sc-412cjc-2 ContentBox__SmallPictureInText-sc-1egb8dt-8 kQDDcT eNihux\" role=\"presentation\" src=\"https://www.usnews.com/object/image/0000018d-29b2-d066-a5ef-e9fe55cf0000/95189a704aa74d42b36c45b09ab69183Election_2024_Haley_35966.jpg?update-time=1705786496000&amp;size=responsive300\"/></picture></div></a>\n",
            "<a aria-label=\"Haley Questions Trump's Mental Fitness After Gaffe\" class=\"story-image\" href=\"https://www.usnews.com/news/best-states/south-carolina/articles/2024-01-20/nikki-haley-questions-trumps-mental-fitness-after-he-appears-to-confuse-her-for-nancy-pelosi\"><picture class=\"Image__Picture-sc-412cjc-0\"><img alt=\"\" class=\"Image__PictureImage-sc-412cjc-1 gBOJbW Image-sc-412cjc-2 ContentBox__Picture-sc-1egb8dt-7 kQDDcT legFzl\" role=\"presentation\" src=\"https://www.usnews.com/object/image/0000018d-29b2-d066-a5ef-e9fe55cf0000/95189a704aa74d42b36c45b09ab69183Election_2024_Haley_35966.jpg?update-time=1705786496000&amp;size=responsive300\"/></picture></a>\n",
            "<a href=\"https://www.usnews.com/news/economy/articles/2024-01-19/consumers-turn-the-corner-on-the-economy-as-sentiment-spikes\">Consumers Turn the Corner on Economy</a>\n",
            "<a aria-label=\"Consumers Turn the Corner on Economy\" class=\"story-image\" href=\"https://www.usnews.com/news/economy/articles/2024-01-19/consumers-turn-the-corner-on-the-economy-as-sentiment-spikes\"><div class=\"Box-w0dun1-0 ContentBox__ImageWrapper-sc-1egb8dt-1 dWWnRo jXMTkv\"><picture class=\"Image__Picture-sc-412cjc-0\"><img alt=\"\" class=\"Image__PictureImage-sc-412cjc-1 gBOJbW Image-sc-412cjc-2 ContentBox__SmallPictureInText-sc-1egb8dt-8 kQDDcT eNihux\" role=\"presentation\" src=\"https://www.usnews.com/object/image/0000018d-226f-dd55-affd-ae7f61b70000/gettyimages-1855701967.jpg?update-time=1705681071315&amp;size=responsive300\"/></picture></div></a>\n",
            "<a aria-label=\"Consumers Turn the Corner on Economy\" class=\"story-image\" href=\"https://www.usnews.com/news/economy/articles/2024-01-19/consumers-turn-the-corner-on-the-economy-as-sentiment-spikes\"><picture class=\"Image__Picture-sc-412cjc-0\"><img alt=\"\" class=\"Image__PictureImage-sc-412cjc-1 gBOJbW Image-sc-412cjc-2 ContentBox__Picture-sc-1egb8dt-7 kQDDcT legFzl\" role=\"presentation\" src=\"https://www.usnews.com/object/image/0000018d-226f-dd55-affd-ae7f61b70000/gettyimages-1855701967.jpg?update-time=1705681071315&amp;size=responsive300\"/></picture></a>\n",
            "<a class=\"Anchor-byh49a-0 MediaLink__AnchorContainer-sc-4j1zsn-6 eMEqFO gvIKGj\" href=\"https://www.usnews.com/news/national-news/articles/2024-01-17/compromise-sparks-conflict-as-congress-works-to-avoid-government-shutdown\" spacing=\"3\"><div class=\"Box-w0dun1-0 MediaLink__InnerContainer-sc-4j1zsn-5 ecdieg dmGGzz\" spacing=\"3\"><div class=\"Box-w0dun1-0 MediaLink__ImageContainer-sc-4j1zsn-2 dWWnRo FVTRN\"><div class=\"MediaLink__Aside-sc-4j1zsn-1 eUcENA\"><img alt=\"Speaker of the House Mike Johnson, R-La., reads a statement to reporters about efforts to complete the appropriations process to fund the budget, at the Capitol in Washington, Friday, Jan. 12, 2024. (AP Photo/J. Scott Applewhite)\r\n",
            "\r\n",
            "\r\n",
            "\" class=\"MediaLink__ImageStyled-sc-4j1zsn-3 dhcpmZ\" loading=\"lazy\" src=\"https://www.usnews.com/object/image/0000018d-18da-d8e1-abdf-9afb3cdb0000/ap24012621953019.jpg?update-time=1705519832422&amp;size=responsiveSquare150\"/></div></div><div class=\"Box-w0dun1-0 MediaLink__Content-sc-4j1zsn-0 dWWnRo cJCmtT\"><p class=\"Paragraph-sc-1iyax29-0 eFAuRd\">When Compromise Sparks Conflict</p></div></div></a>\n",
            "<a class=\"Anchor-byh49a-0 MediaLink__AnchorContainer-sc-4j1zsn-6 eMEqFO gvIKGj\" href=\"https://www.usnews.com/news/national-news/articles/2024-01-17/dean-phillips-fights-to-be-heard-in-long-shot-primary-bid-against-biden\" spacing=\"3\"><div class=\"Box-w0dun1-0 MediaLink__InnerContainer-sc-4j1zsn-5 ecdieg dmGGzz\" spacing=\"3\"><div class=\"Box-w0dun1-0 MediaLink__ImageContainer-sc-4j1zsn-2 dWWnRo FVTRN\"><div class=\"MediaLink__Aside-sc-4j1zsn-1 eUcENA\"><img alt=\"Democratic presidential candidate Dean Phillips speaks at Modestman Brewing in Keene, N.H., Sunday, Jan. 14, 2024. (Kristopher Radder/The Brattleboro Reformer via AP)\" class=\"MediaLink__ImageStyled-sc-4j1zsn-3 dhcpmZ\" loading=\"lazy\" src=\"https://www.usnews.com/object/image/0000018d-1998-de1c-a1bd-19dd9abc0000/ap24014764541342.jpg?update-time=1705531502012&amp;size=responsiveSquare150\"/></div></div><div class=\"Box-w0dun1-0 MediaLink__Content-sc-4j1zsn-0 dWWnRo cJCmtT\"><p class=\"Paragraph-sc-1iyax29-0 eFAuRd\">Phillips’ Primary Fight? To Be Heard</p></div></div></a>\n",
            "<a class=\"Anchor-byh49a-0 MediaLink__AnchorContainer-sc-4j1zsn-6 eMEqFO gvIKGj\" href=\"https://www.usnews.com/news/economy/articles/2024-01-17/americans-end-year-with-a-splurge-pushing-retail-sales-up-by-0-6\" spacing=\"3\"><div class=\"Box-w0dun1-0 MediaLink__InnerContainer-sc-4j1zsn-5 ecdieg dmGGzz\" spacing=\"3\"><div class=\"Box-w0dun1-0 MediaLink__ImageContainer-sc-4j1zsn-2 dWWnRo FVTRN\"><div class=\"MediaLink__Aside-sc-4j1zsn-1 eUcENA\"><img alt=\"Shoppers and sightseers walk on the 5th Avenue, Monday, Dec. 11, 2023, in New York. On Thursday, the Commerce Department releases U.S. retail sales data for November. (AP Photo/Yuki Iwamura)\r\n",
            "\r\n",
            "\r\n",
            "\" class=\"MediaLink__ImageStyled-sc-4j1zsn-3 dhcpmZ\" loading=\"lazy\" src=\"https://www.usnews.com/object/image/0000018d-17ad-de1c-a1bd-17fd466b0000/ap23345762486633.jpg?update-time=1705500618290&amp;size=responsiveSquare150\"/></div></div><div class=\"Box-w0dun1-0 MediaLink__Content-sc-4j1zsn-0 dWWnRo cJCmtT\"><p class=\"Paragraph-sc-1iyax29-0 eFAuRd\">Americans End Year With a Splurge</p></div></div></a>\n",
            "<a class=\"Anchor-byh49a-0 MediaLink__AnchorContainer-sc-4j1zsn-6 eMEqFO gvIKGj\" href=\"https://www.usnews.com/news/politics/articles/2024-01-16/population-growth-patterns-paint-grim-picture-for-democrats\" spacing=\"3\"><div class=\"Box-w0dun1-0 MediaLink__InnerContainer-sc-4j1zsn-5 ecdieg dmGGzz\" spacing=\"3\"><div class=\"Box-w0dun1-0 MediaLink__ImageContainer-sc-4j1zsn-2 dWWnRo FVTRN\"><div class=\"MediaLink__Aside-sc-4j1zsn-1 eUcENA\"><img alt=\"PICKENS, SOUTH CAROLINA - JULY 01: Supporters of former President Donald Trump applaud during a campaign event on July 1, 2023 in Pickens, South Carolina. The former president faces a growing list of primary challengers in the Republican Party. (Photo by Sean Rayford/Getty Images)\r\n",
            "\" class=\"MediaLink__ImageStyled-sc-4j1zsn-3 dhcpmZ\" loading=\"lazy\" src=\"https://www.usnews.com/object/image/0000018d-136d-d5b6-affd-d7fdc2800000/gettyimages-1380192989.jpg?update-time=1705429257948&amp;size=responsiveSquare150\"/></div></div><div class=\"Box-w0dun1-0 MediaLink__Content-sc-4j1zsn-0 dWWnRo cJCmtT\"><p class=\"Paragraph-sc-1iyax29-0 eFAuRd\">Why Census Trends Should Trouble Dems</p></div></div></a>\n"
          ]
        }
      ]
    },
    {
      "cell_type": "code",
      "source": [
        "# print the first one\n",
        "title_3 = top_stories_div.select('a')\n",
        "headlines = [tag.get_text(strip=True) for tag in title_3]\n",
        "print(headlines[0])"
      ],
      "metadata": {
        "colab": {
          "base_uri": "https://localhost:8080/"
        },
        "id": "ZsSJuVZgmCo7",
        "outputId": "941a6b5f-da37-4db3-9160-0c9f9385c367"
      },
      "execution_count": null,
      "outputs": [
        {
          "output_type": "stream",
          "name": "stdout",
          "text": [
            "Haley Questions Trump's Mental Fitness After Gaffe\n"
          ]
        }
      ]
    }
  ]
}